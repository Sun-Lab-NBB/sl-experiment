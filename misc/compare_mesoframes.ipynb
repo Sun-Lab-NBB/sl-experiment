{
 "cells": [
  {
   "cell_type": "code",
   "id": "initial_id",
   "metadata": {
    "collapsed": true,
    "jupyter": {
     "is_executing": true
    }
   },
   "source": [
    "import tifffile\n",
    "from suite2p.io.binary import BinaryFile\n",
    "from pathlib import Path"
   ],
   "outputs": [],
   "execution_count": null
  },
  {
   "metadata": {},
   "cell_type": "markdown",
   "source": "Runtime configuration:\n",
   "id": "e6864a96e45d96fc"
  },
  {
   "metadata": {
    "jupyter": {
     "is_executing": true
    }
   },
   "cell_type": "code",
   "source": [
    "tiff_path = Path()\n",
    "bin_path = Path()\n",
    "ops_path = Path()\n",
    "tiff_index = 0 # The index of the tiff files to read. Index of 0 means the first file in the stack\n",
    "plane_index = 0 # The index of the plane to read. Index of 0 means the first plane in the stack. This only applies to tiff stacks"
   ],
   "id": "4c3d21e76d6ea1aa",
   "outputs": [],
   "execution_count": null
  },
  {
   "metadata": {},
   "cell_type": "markdown",
   "source": [
    "Expects 500-page tiff stacks as 'tiff_path' and one-plane binary archives as 'bin_path'\n",
    "Requires the path to ops.json to properly separate the planes stored in the same tiff file"
   ],
   "id": "49866181c9884842"
  },
  {
   "metadata": {},
   "cell_type": "code",
   "outputs": [],
   "execution_count": null,
   "source": [
    "# Reads the tiff stack into RAM\n",
    "with tifffile.TiffFile('your_image.tif') as tif:\n",
    "    tiff_metadata = tif.read_scanimage_metadata()  # Extracts ScanImage metadata from the binary file.\n",
    "    raw_frame = tif.asarray(key=tiff_index)  # Reads the specified tiff frame (page) into RAM.\n",
    "    tiff\n",
    "image = tiff_stack[tiff_index]"
   ],
   "id": "5fae5c95ab4bb2b6"
  },
  {
   "metadata": {},
   "cell_type": "code",
   "outputs": [],
   "execution_count": null,
   "source": "",
   "id": "9cc829348c98a8c"
  }
 ],
 "metadata": {
  "kernelspec": {
   "display_name": "Python 3",
   "language": "python",
   "name": "python3"
  },
  "language_info": {
   "codemirror_mode": {
    "name": "ipython",
    "version": 2
   },
   "file_extension": ".py",
   "mimetype": "text/x-python",
   "name": "python",
   "nbconvert_exporter": "python",
   "pygments_lexer": "ipython2",
   "version": "2.7.6"
  }
 },
 "nbformat": 4,
 "nbformat_minor": 5
}
